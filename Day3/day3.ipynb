{
 "cells": [
  {
   "cell_type": "markdown",
   "metadata": {},
   "source": [
    "# Write a program to subtract two complex numbers in Python."
   ]
  },
  {
   "cell_type": "code",
   "execution_count": 6,
   "metadata": {},
   "outputs": [
    {
     "name": "stdout",
     "output_type": "stream",
     "text": [
      "Subtraction is :  (1+1j)\n"
     ]
    }
   ],
   "source": [
    "a = complex(2, 3)\n",
    "b = complex(1, 2) \n",
    "c= a-b\n",
    "print( \"Subtraction is : \", c) "
   ]
  },
  {
   "cell_type": "markdown",
   "metadata": {},
   "source": [
    "# Write a program to find the fourth root of a number."
   ]
  },
  {
   "cell_type": "code",
   "execution_count": 7,
   "metadata": {},
   "outputs": [
    {
     "data": {
      "text/plain": [
       "2.0"
      ]
     },
     "execution_count": 7,
     "metadata": {},
     "output_type": "execute_result"
    }
   ],
   "source": [
    "a=16\n",
    "a**(1/4)"
   ]
  },
  {
   "cell_type": "markdown",
   "metadata": {},
   "source": [
    "# Write a program to swap two numbers in Python with the help of a temporary variable"
   ]
  },
  {
   "cell_type": "code",
   "execution_count": 9,
   "metadata": {},
   "outputs": [
    {
     "name": "stdout",
     "output_type": "stream",
     "text": [
      "before swaping a= 2  b= 3\n",
      "after swaping a= 3  b= 2\n"
     ]
    }
   ],
   "source": [
    "a=2\n",
    "b=3\n",
    "print(\"before swaping a=\",a,\" b=\",b)\n",
    "temp=b\n",
    "b=a\n",
    "a=temp\n",
    "print(\"after swaping a=\",a,\" b=\",b)\n"
   ]
  },
  {
   "cell_type": "markdown",
   "metadata": {},
   "source": [
    "# Write a program to swap two numbers in Python without using a temporary variable."
   ]
  },
  {
   "cell_type": "code",
   "execution_count": 10,
   "metadata": {},
   "outputs": [
    {
     "name": "stdout",
     "output_type": "stream",
     "text": [
      "before swaping a= 2  b= 3\n",
      "after swaping a= 3  b= 2\n"
     ]
    }
   ],
   "source": [
    "a=2\n",
    "b=3\n",
    "print(\"before swaping a=\",a,\" b=\",b)\n",
    "a,b=b,a\n",
    "print(\"after swaping a=\",a,\" b=\",b)\n"
   ]
  },
  {
   "cell_type": "markdown",
   "metadata": {},
   "source": [
    "# Write a program to convert fahrenheit to kelvin and celsius both."
   ]
  },
  {
   "cell_type": "code",
   "execution_count": 11,
   "metadata": {},
   "outputs": [
    {
     "name": "stdout",
     "output_type": "stream",
     "text": [
      "fahrenheit= 7  kelvin= 259.26111111111106  celsius= -13.88888888888889\n"
     ]
    }
   ],
   "source": [
    "fahrenheit=7\n",
    "kelvin=(5*(fahrenheit-32)/9)+273.15\n",
    "celsius=(fahrenheit-32)/1.80\n",
    "print(\"fahrenheit=\",fahrenheit,\" kelvin=\",kelvin,\" celsius=\",celsius)"
   ]
  },
  {
   "cell_type": "markdown",
   "metadata": {},
   "source": [
    "# Write a program to demonstrate all the available data types in Python. Hint: Use type() function."
   ]
  },
  {
   "cell_type": "code",
   "execution_count": 16,
   "metadata": {},
   "outputs": [
    {
     "name": "stdout",
     "output_type": "stream",
     "text": [
      "5 is of type <class 'int'>\n",
      "2.0 is of type <class 'float'>\n",
      "(1+2j) is of type <class 'complex'>\n",
      "hello world is of type <class 'str'>\n",
      "[1, 2, 3, 4, 5] is of type <class 'list'>\n",
      "(1, 2, 3, 4, 5) is of type <class 'tuple'>\n",
      "{'apple': 1, 'mango': 2} is of type <class 'dict'>\n",
      "{1, 2, 'hi'} is of type <class 'set'>\n",
      "True is of type <class 'bool'>\n"
     ]
    }
   ],
   "source": [
    "a = 5\n",
    "print(a, \"is of type\", type(a))\n",
    "\n",
    "b = 2.0\n",
    "print(b, \"is of type\", type(b))\n",
    "\n",
    "c = 1+2j\n",
    "print(c, \"is of type\", type(c))\n",
    "\n",
    "d= \"hello world\"\n",
    "print(d, \"is of type\", type(d))\n",
    "\n",
    "f=[1,2,3,4,5]\n",
    "print(f, \"is of type\", type(f))\n",
    "\n",
    "g=(1,2,3,4,5)\n",
    "print(g, \"is of type\", type(g))\n",
    "\n",
    "h={\"apple\":1,\"mango\":2}\n",
    "print(h, \"is of type\", type(h))\n",
    "\n",
    "i={1,\"hi\",2}\n",
    "print(i, \"is of type\", type(i))\n",
    "\n",
    "j=True\n",
    "print(j, \"is of type\", type(j))\n",
    "\n"
   ]
  },
  {
   "cell_type": "markdown",
   "metadata": {},
   "source": [
    "# Create a Markdown cell in jupyter and list the steps discussed in the session by Dr. Darshan Ingle sir to create Github profile and upload Githubs Assignment link."
   ]
  },
  {
   "cell_type": "markdown",
   "metadata": {},
   "source": [
    "# Steps\n",
    "1. Create a Github public repo and name it LetsUpgrade AI/ML\n",
    "2. Upload the files/solution in the repo in day wise manner.\n",
    "3. Copy the URL of the Folder of that day and paste in the Assignment Submission Form (Google Form)\n",
    "4. Make sure you are filling correct details in the Assignment Submission Form.\n",
    "5. All the drop-downs will be available till the week end only. i.e Previous weeks drop-down will disappear on each Sunday 11:59 PM\n",
    "6. You have to submit all the assignment given during the weekdays by respective SUNDAY 11:59 PM IST."
   ]
  },
  {
   "cell_type": "code",
   "execution_count": null,
   "metadata": {},
   "outputs": [],
   "source": []
  }
 ],
 "metadata": {
  "kernelspec": {
   "display_name": "Python 3",
   "language": "python",
   "name": "python3"
  },
  "language_info": {
   "codemirror_mode": {
    "name": "ipython",
    "version": 3
   },
   "file_extension": ".py",
   "mimetype": "text/x-python",
   "name": "python",
   "nbconvert_exporter": "python",
   "pygments_lexer": "ipython3",
   "version": "3.7.6"
  }
 },
 "nbformat": 4,
 "nbformat_minor": 4
}
